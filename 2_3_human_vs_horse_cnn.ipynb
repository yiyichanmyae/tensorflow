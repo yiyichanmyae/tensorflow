{
  "nbformat": 4,
  "nbformat_minor": 0,
  "metadata": {
    "colab": {
      "provenance": [],
      "authorship_tag": "ABX9TyPnWEEcJvVznysvP89ejFLq",
      "include_colab_link": true
    },
    "kernelspec": {
      "name": "python3",
      "display_name": "Python 3"
    },
    "language_info": {
      "name": "python"
    }
  },
  "cells": [
    {
      "cell_type": "markdown",
      "metadata": {
        "id": "view-in-github",
        "colab_type": "text"
      },
      "source": [
        "<a href=\"https://colab.research.google.com/github/yiyichanmyae/tensorflow/blob/master/2_3_human_vs_horse_cnn.ipynb\" target=\"_parent\"><img src=\"https://colab.research.google.com/assets/colab-badge.svg\" alt=\"Open In Colab\"/></a>"
      ]
    },
    {
      "cell_type": "code",
      "execution_count": 7,
      "metadata": {
        "id": "Gz6VOKTl4tK6"
      },
      "outputs": [],
      "source": [
        "import urllib.request\n",
        "import zipfile\n",
        "\n",
        "def getDataFromUrl(url_, file_location):\n",
        "  urllib.request.urlretrieve(url_, file_location)\n",
        "\n",
        "def extractZip(zip_, folder_dir):\n",
        "  zip_ref = zipfile.ZipFile(zip_, \"r\")\n",
        "  zip_ref.extractall(folder_dir)\n",
        "  zip_ref.close()\n",
        "\n",
        "# load data\n",
        "training_file_name = \"h-or-h-train.zip\"\n",
        "training_dir = \"h-or-h/training\"\n",
        "validation_file_name = \"h-or-h-validation.zip\"\n",
        "validation_dir = \"h-or-h/vlidation\"\n",
        "\n",
        "training_url = \"https://storage.googleapis.com/learning-datasets/horse-or-human.zip\"\n",
        "getDataFromUrl(training_url, training_file_name)\n",
        "extractZip(training_file_name, training_dir)\n",
        "\n",
        "# urllib.request.urlretrieve(training_url, training_file_name)\n",
        "# zip_ref = zipfile.ZipFile(training_file_name, \"r\")\n",
        "# zip_ref.extractall(training_dir)\n",
        "# zip_ref.close()\n",
        "\n",
        "validation_url = \"https://storage.googleapis.com/learning-datasets/validation-horse-or-human.zip\"\n",
        "getDataFromUrl(validation_url, validation_file_name)\n",
        "extractZip(validation_file_name, validation_dir)\n",
        "\n",
        "# urllib.request.urlretrieve(validation_url, validation_file_name)\n",
        "# zip_ref = zipfile.ZipFile(validation_file_name, \"r\")\n",
        "# zip_ref.extractall(validation_dir)\n",
        "# zip_ref.close()\n",
        "\n",
        "from tensorflow.keras.preprocessing.image import ImageDataGenerator\n",
        "\n"
      ]
    },
    {
      "cell_type": "code",
      "source": [],
      "metadata": {
        "id": "bP-A-1NuI8_g"
      },
      "execution_count": null,
      "outputs": []
    }
  ]
}
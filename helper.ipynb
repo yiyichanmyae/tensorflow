{
  "nbformat": 4,
  "nbformat_minor": 0,
  "metadata": {
    "colab": {
      "provenance": [],
      "authorship_tag": "ABX9TyMsBIyTw+mUZSA578qjPHAr",
      "include_colab_link": true
    },
    "kernelspec": {
      "name": "python3",
      "display_name": "Python 3"
    },
    "language_info": {
      "name": "python"
    }
  },
  "cells": [
    {
      "cell_type": "markdown",
      "metadata": {
        "id": "view-in-github",
        "colab_type": "text"
      },
      "source": [
        "<a href=\"https://colab.research.google.com/github/yiyichanmyae/tensorflow/blob/master/helper.ipynb\" target=\"_parent\"><img src=\"https://colab.research.google.com/assets/colab-badge.svg\" alt=\"Open In Colab\"/></a>"
      ]
    },
    {
      "cell_type": "code",
      "execution_count": null,
      "metadata": {
        "id": "_0xhmUQ35g4a"
      },
      "outputs": [],
      "source": [
        "import urllib.request\n",
        "import zipfile\n",
        "\n",
        "def getDataFromUrl(url_, file_location):\n",
        "  urllib.request.urlretrieve(url_, file_location)\n",
        "\n",
        "def extractZip(zip_, folder_dir):\n",
        "  zip_ref = zipfile.ZipFile(zip_, \"r\")\n",
        "  zip_ref.extractall(folder_dir)\n",
        "  zip_ref.close()\n",
        "\n",
        "def reshapeAdding1d(x_tensor):\n",
        "  return tf.expand_dims(x_tensor, axis=len(x_tensor.shape))\n",
        "\n",
        "\n",
        "\n",
        "\n",
        ""
      ]
    }
  ]
}